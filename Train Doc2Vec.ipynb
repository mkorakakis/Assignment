{
 "cells": [
  {
   "cell_type": "code",
   "execution_count": null,
   "metadata": {},
   "outputs": [],
   "source": [
    "import gensim\n",
    "from gensim.models.doc2vec import Doc2Vec, TaggedDocument\n",
    "assert gensim.models.doc2vec.FAST_VERSION > -1, \"This will be painfully slow otherwise\"\n",
    "import multiprocessing\n",
    "import os\n",
    "import nltk\n",
    "from nltk.tokenize import word_tokenize\n",
    "import logging\n",
    "from gensim.test.test_doc2vec import ConcatenatedDoc2Vec\n",
    "logging.basicConfig(format='%(asctime)s : %(levelname)s : %(message)s', level=logging.INFO)"
   ]
  },
  {
   "cell_type": "code",
   "execution_count": null,
   "metadata": {},
   "outputs": [],
   "source": [
    "nltk.download('punkt')"
   ]
  },
  {
   "cell_type": "code",
   "execution_count": null,
   "metadata": {},
   "outputs": [],
   "source": [
    "def read_data(base_path):\n",
    "    reviews = []\n",
    "    for temp,j,y in os.walk(base_path):\n",
    "        if os.path.basename(os.path.normpath(temp)) in ['neg', 'pos', 'unsup']:\n",
    "            for i, f in enumerate(os.listdir(temp)):\n",
    "                if f.endswith('.txt'):\n",
    "                    with open(os.path.join(temp, f), 'r') as file:\n",
    "                        text = word_tokenize(file.read())\n",
    "                        text = [x.lower() for x in text]\n",
    "                        reviews.append(TaggedDocument(text, [i]))                \n",
    "    return reviews\n",
    "\n",
    "    def train_doc2vec(reviews, epochs, vector_size, window, dm, min_count = 2, dm_concat = 0, hs = 0, negative = 5):\n",
    "        if dm == 0:\n",
    "            model = Doc2Vec(vector_size=vector_size, min_count=min_count, epochs=epochs, dm=dm, dbow_words=1, hs=hs, negative=negative,\n",
    "                        workers=multiprocessing.cpu_count())\n",
    "        else:\n",
    "            model = Doc2Vec(vector_size=vector_size, min_count=min_count, epochs=epochs, dm=dm, hs=hs, negative=negative,\n",
    "                        workers=multiprocessing.cpu_count())\n",
    "\n",
    "        model.build_vocab(reviews)\n",
    "        model.train(reviews, total_examples=model.corpus_count, epochs=model.epochs)\n",
    "        model.delete_temporary_training_data(keep_doctags_vectors=True, keep_inference=True)\n",
    "        model.save(\"doc2vec/{}_{}_{}_{}_{}_{}_{}.model\".format(epochs, vector_size, window, dm, \n",
    "                                                               min_count, hs, negative))\n",
    "        print(\"Model Saved\")"
   ]
  },
  {
   "cell_type": "markdown",
   "metadata": {},
   "source": [
    "## Read Unsupervised Data"
   ]
  },
  {
   "cell_type": "code",
   "execution_count": null,
   "metadata": {},
   "outputs": [],
   "source": [
    "data_path = 'datasets/aclImdb/'"
   ]
  },
  {
   "cell_type": "code",
   "execution_count": null,
   "metadata": {},
   "outputs": [],
   "source": [
    "reviews = read_data(data_path)"
   ]
  },
  {
   "cell_type": "code",
   "execution_count": null,
   "metadata": {},
   "outputs": [],
   "source": [
    "print(len(reviews))"
   ]
  },
  {
   "cell_type": "markdown",
   "metadata": {},
   "source": [
    "## Train Doc2Vec"
   ]
  },
  {
   "cell_type": "code",
   "execution_count": null,
   "metadata": {},
   "outputs": [],
   "source": [
    "train_doc2vec(reviews, epochs = 10, vector_size = 100, window = 5, dm = 0, min_count=5)"
   ]
  },
  {
   "cell_type": "code",
   "execution_count": null,
   "metadata": {},
   "outputs": [],
   "source": [
    "train_doc2vec(reviews, epochs = 10, vector_size = 100, window = 5, dm = 0)"
   ]
  },
  {
   "cell_type": "code",
   "execution_count": null,
   "metadata": {},
   "outputs": [],
   "source": [
    "train_doc2vec(reviews, epochs = 10, vector_size = 100, window = 5, dm = 1)"
   ]
  },
  {
   "cell_type": "code",
   "execution_count": null,
   "metadata": {},
   "outputs": [],
   "source": [
    "train_doc2vec(reviews, epochs = 20, vector_size = 100, window = 10, dm = 1)"
   ]
  },
  {
   "cell_type": "code",
   "execution_count": null,
   "metadata": {},
   "outputs": [],
   "source": [
    "train_doc2vec(reviews, epochs = 10, vector_size = 200, window = 10, dm = 1)"
   ]
  },
  {
   "cell_type": "code",
   "execution_count": null,
   "metadata": {},
   "outputs": [],
   "source": [
    "train_doc2vec(reviews, epochs = 10, vector_size = 200, window = 10, dm=0)"
   ]
  },
  {
   "cell_type": "code",
   "execution_count": null,
   "metadata": {
    "scrolled": true
   },
   "outputs": [],
   "source": [
    "train_doc2vec(reviews, epochs = 10, vector_size = 100, window = 5, dm=1, dm_concat=1, hs=1)"
   ]
  },
  {
   "cell_type": "code",
   "execution_count": null,
   "metadata": {
    "scrolled": false
   },
   "outputs": [],
   "source": [
    "train_doc2vec(reviews, epochs = 10, vector_size = 100, min_count = 2, dm=1, window=15, negative=15, hs=0)"
   ]
  },
  {
   "cell_type": "code",
   "execution_count": null,
   "metadata": {},
   "outputs": [],
   "source": [
    "epochs = 10\n",
    "model2 = Doc2Vec(vector_size=200, min_count=2, epochs=epochs, dm=0, window = 10, dbow_words=1, hs=0, negative=5,workers=multiprocessing.cpu_count())        \n",
    "model2.build_vocab(reviews)\n",
    "model2.train(reviews, total_examples=model2.corpus_count, epochs=epochs)\n",
    "model2.delete_temporary_training_data(keep_doctags_vectors=True, keep_inference=True)\n",
    "model2.save(\"doc2vec/best_dbowmodel.model\")"
   ]
  },
  {
   "cell_type": "code",
   "execution_count": null,
   "metadata": {},
   "outputs": [],
   "source": [
    "epochs = 20\n",
    "model1 = Doc2Vec(vector_size=100, min_count=2, epochs=epochs, dm=1, window = 10, workers=multiprocessing.cpu_count())        \n",
    "model1.build_vocab(reviews)\n",
    "model1.train(reviews, total_examples=model1.corpus_count, epochs=epochs)\n",
    "model1.delete_temporary_training_data(keep_doctags_vectors=True, keep_inference=True)\n",
    "\n",
    "\n",
    "doc2vec/10_200_10_0_2_0_5.model"
   ]
  },
  {
   "cell_type": "code",
   "execution_count": null,
   "metadata": {},
   "outputs": [],
   "source": [
    "model1.save(\"doc2vec/dbow_dm_model1.model\")\n",
    "model2.save(\"doc2vec/dbow_dm_model2.model\")\n",
    "\n"
   ]
  },
  {
   "cell_type": "code",
   "execution_count": null,
   "metadata": {},
   "outputs": [],
   "source": [
    "from sklearn.model_selection import ParameterGrid\n",
    "\n",
    "\n",
    "param_grid = {'epochs': [10, 20], \n",
    "              'vector_size': [100],\n",
    "              'min_count': [2],\n",
    "              'dm': [0, 1],\n",
    "              'window': [5, 10],\n",
    "              'hs': [0, 1],\n",
    "              'negative': [5, 15]\n",
    "             }\n",
    "grid = ParameterGrid(param_grid)\n",
    "for params in grid:\n",
    "    print(params)\n",
    "    train_doc2vec(documents, max_epochs = params['max_epochs'], vec_size = params['vec_size'], min_count = params['min_count'], dm = params['dm'])"
   ]
  }
 ],
 "metadata": {
  "kernelspec": {
   "display_name": "Python 3",
   "language": "python",
   "name": "python3"
  },
  "language_info": {
   "codemirror_mode": {
    "name": "ipython",
    "version": 3
   },
   "file_extension": ".py",
   "mimetype": "text/x-python",
   "name": "python",
   "nbconvert_exporter": "python",
   "pygments_lexer": "ipython3",
   "version": "3.6.9"
  }
 },
 "nbformat": 4,
 "nbformat_minor": 2
}
